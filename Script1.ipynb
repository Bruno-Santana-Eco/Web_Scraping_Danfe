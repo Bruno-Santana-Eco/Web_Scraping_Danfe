{
 "cells": [
  {
   "cell_type": "code",
   "execution_count": 1,
   "metadata": {},
   "outputs": [
    {
     "name": "stdout",
     "output_type": "stream",
     "text": [
      "Collecting selenium\n",
      "  Downloading selenium-4.25.0-py3-none-any.whl (9.7 MB)\n",
      "     ---------------------------------------- 9.7/9.7 MB 3.2 MB/s eta 0:00:00\n",
      "Requirement already satisfied: certifi>=2021.10.8 in c:\\programdata\\anaconda3\\lib\\site-packages (from selenium) (2022.12.7)\n",
      "Collecting trio~=0.17\n",
      "  Downloading trio-0.26.2-py3-none-any.whl (475 kB)\n",
      "     -------------------------------------- 476.0/476.0 kB 5.0 MB/s eta 0:00:00\n",
      "Requirement already satisfied: typing_extensions~=4.9 in c:\\programdata\\anaconda3\\lib\\site-packages (from selenium) (4.11.0)\n",
      "Collecting trio-websocket~=0.9\n",
      "  Downloading trio_websocket-0.11.1-py3-none-any.whl (17 kB)\n",
      "Collecting websocket-client~=1.8\n",
      "  Downloading websocket_client-1.8.0-py3-none-any.whl (58 kB)\n",
      "     ---------------------------------------- 58.8/58.8 kB 3.2 MB/s eta 0:00:00\n",
      "Requirement already satisfied: urllib3[socks]<3,>=1.26 in c:\\programdata\\anaconda3\\lib\\site-packages (from selenium) (1.26.15)\n",
      "Requirement already satisfied: cffi>=1.14 in c:\\programdata\\anaconda3\\lib\\site-packages (from trio~=0.17->selenium) (1.15.1)\n",
      "Collecting attrs>=23.2.0\n",
      "  Downloading attrs-24.2.0-py3-none-any.whl (63 kB)\n",
      "     ---------------------------------------- 63.0/63.0 kB 3.3 MB/s eta 0:00:00\n",
      "Requirement already satisfied: sortedcontainers in c:\\programdata\\anaconda3\\lib\\site-packages (from trio~=0.17->selenium) (2.4.0)\n",
      "Collecting exceptiongroup\n",
      "  Downloading exceptiongroup-1.2.2-py3-none-any.whl (16 kB)\n",
      "Collecting sniffio>=1.3.0\n",
      "  Downloading sniffio-1.3.1-py3-none-any.whl (10 kB)\n",
      "Requirement already satisfied: idna in c:\\programdata\\anaconda3\\lib\\site-packages (from trio~=0.17->selenium) (3.4)\n",
      "Collecting outcome\n",
      "  Downloading outcome-1.3.0.post0-py2.py3-none-any.whl (10 kB)\n",
      "Collecting wsproto>=0.14\n",
      "  Downloading wsproto-1.2.0-py3-none-any.whl (24 kB)\n",
      "Requirement already satisfied: PySocks!=1.5.7,<2.0,>=1.5.6 in c:\\programdata\\anaconda3\\lib\\site-packages (from urllib3[socks]<3,>=1.26->selenium) (1.7.1)\n",
      "Requirement already satisfied: pycparser in c:\\programdata\\anaconda3\\lib\\site-packages (from cffi>=1.14->trio~=0.17->selenium) (2.21)\n",
      "Collecting h11<1,>=0.9.0\n",
      "  Downloading h11-0.14.0-py3-none-any.whl (58 kB)\n",
      "     ---------------------------------------- 58.3/58.3 kB ? eta 0:00:00\n",
      "Note: you may need to restart the kernel to use updated packages.\n",
      "Installing collected packages: websocket-client, sniffio, h11, exceptiongroup, attrs, wsproto, outcome, trio, trio-websocket, selenium\n",
      "  Attempting uninstall: attrs\n",
      "    Found existing installation: attrs 22.1.0\n",
      "    Uninstalling attrs-22.1.0:\n",
      "      Successfully uninstalled attrs-22.1.0\n",
      "Successfully installed attrs-24.2.0 exceptiongroup-1.2.2 h11-0.14.0 outcome-1.3.0.post0 selenium-4.25.0 sniffio-1.3.1 trio-0.26.2 trio-websocket-0.11.1 websocket-client-1.8.0 wsproto-1.2.0\n"
     ]
    }
   ],
   "source": [
    "pip install selenium\n"
   ]
  },
  {
   "cell_type": "code",
   "execution_count": 5,
   "metadata": {},
   "outputs": [],
   "source": [
    "from selenium import webdriver\n",
    "from selenium.webdriver.chrome.service import Service\n",
    "from selenium.webdriver.common.by import By\n",
    "import time\n",
    "\n",
    "# Caminho para o seu chromedriver\n",
    "driver_path = \"C:/Users/Samsung/Documents/GitHub-Datas/Web_Scraping_Danfe/chromedriver-win64/chromedriver.exe\"\n",
    "\n",
    "\n",
    "# Inicializar o serviço com o caminho do chromedriver\n",
    "service = Service(driver_path)\n",
    "\n",
    "# Iniciar o navegador usando o serviço\n",
    "driver = webdriver.Chrome(service=service)\n",
    "\n",
    "# Acessar o site\n",
    "driver.get(\"https://consultadanfe.com/?gclid=EAIaIQobChMI2Lahqfj9-gIVAkVIAB3McQr_EAAYASAAEgI8XvD_BwE#\")\n",
    "\n",
    "\n"
   ]
  },
  {
   "cell_type": "code",
   "execution_count": 6,
   "metadata": {},
   "outputs": [],
   "source": [
    "# Esperar alguns segundos para garantir que a página carregou\n",
    "time.sleep(3)\n",
    "\n",
    "# Encontrar o elemento \"Fechar\" pelo XPath e clicar nele\n",
    "fechar_botao = driver.find_element(By.XPATH, '/html/body/div[1]/div[5]/div/div/div/div/div/div/div/a[1]')\n",
    "fechar_botao.click()"
   ]
  },
  {
   "cell_type": "code",
   "execution_count": 7,
   "metadata": {},
   "outputs": [],
   "source": [
    "time.sleep(3)\n",
    "\n",
    "# Inserir a chave DANFE no campo correto pelo XPath\n",
    "chave_danfe = \"29190222899533000432550020000015311007428886\"\n",
    "campo_chave = driver.find_element(By.XPATH, '/html/body/div[1]/div[2]/div/div[1]/div/div[1]/form[1]/input')\n",
    "campo_chave.send_keys(chave_danfe)"
   ]
  },
  {
   "cell_type": "code",
   "execution_count": 12,
   "metadata": {},
   "outputs": [
    {
     "name": "stdout",
     "output_type": "stream",
     "text": [
      "Pop-up não encontrado ou não pôde ser fechado.\n"
     ]
    },
    {
     "ename": "ElementClickInterceptedException",
     "evalue": "Message: element click intercepted: Element <button class=\"g-recaptcha\" data-sitekey=\"6LdCwT8iAAAAAHyQr-PCciOhzh7GKlyXvxzDOwi0\" data-callback=\"onSubmitCH\">...</button> is not clickable at point (657, 25). Other element would receive the click: <a href=\"https://app.consultadanfe.com/\" style=\"border: 1px solid;\">...</a>\n  (Session info: chrome=129.0.6668.71)\nStacktrace:\n\tGetHandleVerifier [0x00007FF783D3B125+29573]\n\t(No symbol) [0x00007FF783CAFF50]\n\t(No symbol) [0x00007FF783B6B6EA]\n\t(No symbol) [0x00007FF783BC74EE]\n\t(No symbol) [0x00007FF783BC4F3C]\n\t(No symbol) [0x00007FF783BC2408]\n\t(No symbol) [0x00007FF783BC161A]\n\t(No symbol) [0x00007FF783BB36BE]\n\t(No symbol) [0x00007FF783BE72FA]\n\t(No symbol) [0x00007FF783BB2FF6]\n\t(No symbol) [0x00007FF783BE7510]\n\t(No symbol) [0x00007FF783C086BC]\n\t(No symbol) [0x00007FF783BE70A3]\n\t(No symbol) [0x00007FF783BB12DF]\n\t(No symbol) [0x00007FF783BB2441]\n\tGetHandleVerifier [0x00007FF78406C76D+3377613]\n\tGetHandleVerifier [0x00007FF7840B7B67+3685831]\n\tGetHandleVerifier [0x00007FF7840ACF8B+3641835]\n\tGetHandleVerifier [0x00007FF783DFB2A6+816390]\n\t(No symbol) [0x00007FF783CBB25F]\n\t(No symbol) [0x00007FF783CB7084]\n\t(No symbol) [0x00007FF783CB7220]\n\t(No symbol) [0x00007FF783CA607F]\n\tBaseThreadInitThunk [0x00007FFE56FD7374+20]\n\tRtlUserThreadStart [0x00007FFE57E7CC91+33]\n",
     "output_type": "error",
     "traceback": [
      "\u001b[1;31m---------------------------------------------------------------------------\u001b[0m",
      "\u001b[1;31mElementClickInterceptedException\u001b[0m          Traceback (most recent call last)",
      "Cell \u001b[1;32mIn[12], line 26\u001b[0m\n\u001b[0;32m     21\u001b[0m botao_buscar \u001b[38;5;241m=\u001b[39m WebDriverWait(driver, \u001b[38;5;241m10\u001b[39m)\u001b[38;5;241m.\u001b[39muntil(\n\u001b[0;32m     22\u001b[0m     EC\u001b[38;5;241m.\u001b[39melement_to_be_clickable((By\u001b[38;5;241m.\u001b[39mCSS_SELECTOR, \u001b[38;5;124m\"\u001b[39m\u001b[38;5;124m#form_one > button\u001b[39m\u001b[38;5;124m\"\u001b[39m))\n\u001b[0;32m     23\u001b[0m )\n\u001b[0;32m     25\u001b[0m \u001b[38;5;66;03m# Clicar no botão \"Buscar\"\u001b[39;00m\n\u001b[1;32m---> 26\u001b[0m \u001b[43mbotao_buscar\u001b[49m\u001b[38;5;241;43m.\u001b[39;49m\u001b[43mclick\u001b[49m\u001b[43m(\u001b[49m\u001b[43m)\u001b[49m\n",
      "File \u001b[1;32mc:\\ProgramData\\anaconda3\\lib\\site-packages\\selenium\\webdriver\\remote\\webelement.py:94\u001b[0m, in \u001b[0;36mWebElement.click\u001b[1;34m(self)\u001b[0m\n\u001b[0;32m     92\u001b[0m \u001b[38;5;28;01mdef\u001b[39;00m \u001b[38;5;21mclick\u001b[39m(\u001b[38;5;28mself\u001b[39m) \u001b[38;5;241m-\u001b[39m\u001b[38;5;241m>\u001b[39m \u001b[38;5;28;01mNone\u001b[39;00m:\n\u001b[0;32m     93\u001b[0m     \u001b[38;5;124;03m\"\"\"Clicks the element.\"\"\"\u001b[39;00m\n\u001b[1;32m---> 94\u001b[0m     \u001b[38;5;28;43mself\u001b[39;49m\u001b[38;5;241;43m.\u001b[39;49m\u001b[43m_execute\u001b[49m\u001b[43m(\u001b[49m\u001b[43mCommand\u001b[49m\u001b[38;5;241;43m.\u001b[39;49m\u001b[43mCLICK_ELEMENT\u001b[49m\u001b[43m)\u001b[49m\n",
      "File \u001b[1;32mc:\\ProgramData\\anaconda3\\lib\\site-packages\\selenium\\webdriver\\remote\\webelement.py:395\u001b[0m, in \u001b[0;36mWebElement._execute\u001b[1;34m(self, command, params)\u001b[0m\n\u001b[0;32m    393\u001b[0m     params \u001b[38;5;241m=\u001b[39m {}\n\u001b[0;32m    394\u001b[0m params[\u001b[38;5;124m\"\u001b[39m\u001b[38;5;124mid\u001b[39m\u001b[38;5;124m\"\u001b[39m] \u001b[38;5;241m=\u001b[39m \u001b[38;5;28mself\u001b[39m\u001b[38;5;241m.\u001b[39m_id\n\u001b[1;32m--> 395\u001b[0m \u001b[38;5;28;01mreturn\u001b[39;00m \u001b[38;5;28;43mself\u001b[39;49m\u001b[38;5;241;43m.\u001b[39;49m\u001b[43m_parent\u001b[49m\u001b[38;5;241;43m.\u001b[39;49m\u001b[43mexecute\u001b[49m\u001b[43m(\u001b[49m\u001b[43mcommand\u001b[49m\u001b[43m,\u001b[49m\u001b[43m \u001b[49m\u001b[43mparams\u001b[49m\u001b[43m)\u001b[49m\n",
      "File \u001b[1;32mc:\\ProgramData\\anaconda3\\lib\\site-packages\\selenium\\webdriver\\remote\\webdriver.py:354\u001b[0m, in \u001b[0;36mWebDriver.execute\u001b[1;34m(self, driver_command, params)\u001b[0m\n\u001b[0;32m    352\u001b[0m response \u001b[38;5;241m=\u001b[39m \u001b[38;5;28mself\u001b[39m\u001b[38;5;241m.\u001b[39mcommand_executor\u001b[38;5;241m.\u001b[39mexecute(driver_command, params)\n\u001b[0;32m    353\u001b[0m \u001b[38;5;28;01mif\u001b[39;00m response:\n\u001b[1;32m--> 354\u001b[0m     \u001b[38;5;28;43mself\u001b[39;49m\u001b[38;5;241;43m.\u001b[39;49m\u001b[43merror_handler\u001b[49m\u001b[38;5;241;43m.\u001b[39;49m\u001b[43mcheck_response\u001b[49m\u001b[43m(\u001b[49m\u001b[43mresponse\u001b[49m\u001b[43m)\u001b[49m\n\u001b[0;32m    355\u001b[0m     response[\u001b[38;5;124m\"\u001b[39m\u001b[38;5;124mvalue\u001b[39m\u001b[38;5;124m\"\u001b[39m] \u001b[38;5;241m=\u001b[39m \u001b[38;5;28mself\u001b[39m\u001b[38;5;241m.\u001b[39m_unwrap_value(response\u001b[38;5;241m.\u001b[39mget(\u001b[38;5;124m\"\u001b[39m\u001b[38;5;124mvalue\u001b[39m\u001b[38;5;124m\"\u001b[39m, \u001b[38;5;28;01mNone\u001b[39;00m))\n\u001b[0;32m    356\u001b[0m     \u001b[38;5;28;01mreturn\u001b[39;00m response\n",
      "File \u001b[1;32mc:\\ProgramData\\anaconda3\\lib\\site-packages\\selenium\\webdriver\\remote\\errorhandler.py:229\u001b[0m, in \u001b[0;36mErrorHandler.check_response\u001b[1;34m(self, response)\u001b[0m\n\u001b[0;32m    227\u001b[0m         alert_text \u001b[38;5;241m=\u001b[39m value[\u001b[38;5;124m\"\u001b[39m\u001b[38;5;124malert\u001b[39m\u001b[38;5;124m\"\u001b[39m]\u001b[38;5;241m.\u001b[39mget(\u001b[38;5;124m\"\u001b[39m\u001b[38;5;124mtext\u001b[39m\u001b[38;5;124m\"\u001b[39m)\n\u001b[0;32m    228\u001b[0m     \u001b[38;5;28;01mraise\u001b[39;00m exception_class(message, screen, stacktrace, alert_text)  \u001b[38;5;66;03m# type: ignore[call-arg]  # mypy is not smart enough here\u001b[39;00m\n\u001b[1;32m--> 229\u001b[0m \u001b[38;5;28;01mraise\u001b[39;00m exception_class(message, screen, stacktrace)\n",
      "\u001b[1;31mElementClickInterceptedException\u001b[0m: Message: element click intercepted: Element <button class=\"g-recaptcha\" data-sitekey=\"6LdCwT8iAAAAAHyQr-PCciOhzh7GKlyXvxzDOwi0\" data-callback=\"onSubmitCH\">...</button> is not clickable at point (657, 25). Other element would receive the click: <a href=\"https://app.consultadanfe.com/\" style=\"border: 1px solid;\">...</a>\n  (Session info: chrome=129.0.6668.71)\nStacktrace:\n\tGetHandleVerifier [0x00007FF783D3B125+29573]\n\t(No symbol) [0x00007FF783CAFF50]\n\t(No symbol) [0x00007FF783B6B6EA]\n\t(No symbol) [0x00007FF783BC74EE]\n\t(No symbol) [0x00007FF783BC4F3C]\n\t(No symbol) [0x00007FF783BC2408]\n\t(No symbol) [0x00007FF783BC161A]\n\t(No symbol) [0x00007FF783BB36BE]\n\t(No symbol) [0x00007FF783BE72FA]\n\t(No symbol) [0x00007FF783BB2FF6]\n\t(No symbol) [0x00007FF783BE7510]\n\t(No symbol) [0x00007FF783C086BC]\n\t(No symbol) [0x00007FF783BE70A3]\n\t(No symbol) [0x00007FF783BB12DF]\n\t(No symbol) [0x00007FF783BB2441]\n\tGetHandleVerifier [0x00007FF78406C76D+3377613]\n\tGetHandleVerifier [0x00007FF7840B7B67+3685831]\n\tGetHandleVerifier [0x00007FF7840ACF8B+3641835]\n\tGetHandleVerifier [0x00007FF783DFB2A6+816390]\n\t(No symbol) [0x00007FF783CBB25F]\n\t(No symbol) [0x00007FF783CB7084]\n\t(No symbol) [0x00007FF783CB7220]\n\t(No symbol) [0x00007FF783CA607F]\n\tBaseThreadInitThunk [0x00007FFE56FD7374+20]\n\tRtlUserThreadStart [0x00007FFE57E7CC91+33]\n"
     ]
    }
   ],
   "source": [
    "from selenium.webdriver.common.by import By\n",
    "from selenium.webdriver.support.ui import WebDriverWait\n",
    "from selenium.webdriver.support import expected_conditions as EC\n",
    "\n",
    "# Fechar o pop-up se ele aparecer\n",
    "try:\n",
    "    pop_up_close_button = WebDriverWait(driver, 5).until(\n",
    "        EC.element_to_be_clickable((By.XPATH, 'XPATH_DO_BOTAO_DE_FECHAR_DO_POPUP'))\n",
    "    )\n",
    "    pop_up_close_button.click()\n",
    "except Exception as e:\n",
    "    print(\"Pop-up não encontrado ou não pôde ser fechado.\")\n",
    "\n",
    "# Rolando até o botão \"Buscar\"\n",
    "botao_buscar = WebDriverWait(driver, 10).until(\n",
    "    EC.visibility_of_element_located((By.CSS_SELECTOR, \"#form_one > button\"))\n",
    ")\n",
    "driver.execute_script(\"arguments[0].scrollIntoView();\", botao_buscar)\n",
    "\n",
    "# Esperar até que o botão esteja clicável\n",
    "botao_buscar = WebDriverWait(driver, 10).until(\n",
    "    EC.element_to_be_clickable((By.CSS_SELECTOR, \"#form_one > button\"))\n",
    ")\n",
    "\n",
    "# Clicar no botão \"Buscar\"\n",
    "botao_buscar.click()\n",
    "\n",
    "# Verificar se o reCAPTCHA está presente\n",
    "try:\n",
    "    WebDriverWait(driver, 10).until(EC.visibility_of_element_located((By.CLASS_NAME, \"g-recaptcha\")))\n",
    "    print(\"reCAPTCHA encontrado, por favor, resolva e pressione Enter para continuar...\")\n",
    "    input()\n",
    "except Exception as e:\n",
    "    print(\"reCAPTCHA não encontrado, continuando...\")\n"
   ]
  },
  {
   "cell_type": "code",
   "execution_count": 14,
   "metadata": {},
   "outputs": [],
   "source": [
    "# Clicar no botão \"Buscar\" usando JavaScript\n",
    "driver.execute_script(\"arguments[0].click();\", botao_buscar)"
   ]
  },
  {
   "cell_type": "code",
   "execution_count": null,
   "metadata": {},
   "outputs": [],
   "source": []
  }
 ],
 "metadata": {
  "kernelspec": {
   "display_name": "base",
   "language": "python",
   "name": "python3"
  },
  "language_info": {
   "codemirror_mode": {
    "name": "ipython",
    "version": 3
   },
   "file_extension": ".py",
   "mimetype": "text/x-python",
   "name": "python",
   "nbconvert_exporter": "python",
   "pygments_lexer": "ipython3",
   "version": "3.8.16"
  }
 },
 "nbformat": 4,
 "nbformat_minor": 2
}
