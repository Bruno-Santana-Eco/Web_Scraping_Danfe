{
 "cells": [
  {
   "cell_type": "code",
   "execution_count": 1,
   "metadata": {},
   "outputs": [
    {
     "name": "stdout",
     "output_type": "stream",
     "text": [
      "Collecting selenium\n",
      "  Downloading selenium-4.25.0-py3-none-any.whl (9.7 MB)\n",
      "     ---------------------------------------- 9.7/9.7 MB 3.2 MB/s eta 0:00:00\n",
      "Requirement already satisfied: certifi>=2021.10.8 in c:\\programdata\\anaconda3\\lib\\site-packages (from selenium) (2022.12.7)\n",
      "Collecting trio~=0.17\n",
      "  Downloading trio-0.26.2-py3-none-any.whl (475 kB)\n",
      "     -------------------------------------- 476.0/476.0 kB 5.0 MB/s eta 0:00:00\n",
      "Requirement already satisfied: typing_extensions~=4.9 in c:\\programdata\\anaconda3\\lib\\site-packages (from selenium) (4.11.0)\n",
      "Collecting trio-websocket~=0.9\n",
      "  Downloading trio_websocket-0.11.1-py3-none-any.whl (17 kB)\n",
      "Collecting websocket-client~=1.8\n",
      "  Downloading websocket_client-1.8.0-py3-none-any.whl (58 kB)\n",
      "     ---------------------------------------- 58.8/58.8 kB 3.2 MB/s eta 0:00:00\n",
      "Requirement already satisfied: urllib3[socks]<3,>=1.26 in c:\\programdata\\anaconda3\\lib\\site-packages (from selenium) (1.26.15)\n",
      "Requirement already satisfied: cffi>=1.14 in c:\\programdata\\anaconda3\\lib\\site-packages (from trio~=0.17->selenium) (1.15.1)\n",
      "Collecting attrs>=23.2.0\n",
      "  Downloading attrs-24.2.0-py3-none-any.whl (63 kB)\n",
      "     ---------------------------------------- 63.0/63.0 kB 3.3 MB/s eta 0:00:00\n",
      "Requirement already satisfied: sortedcontainers in c:\\programdata\\anaconda3\\lib\\site-packages (from trio~=0.17->selenium) (2.4.0)\n",
      "Collecting exceptiongroup\n",
      "  Downloading exceptiongroup-1.2.2-py3-none-any.whl (16 kB)\n",
      "Collecting sniffio>=1.3.0\n",
      "  Downloading sniffio-1.3.1-py3-none-any.whl (10 kB)\n",
      "Requirement already satisfied: idna in c:\\programdata\\anaconda3\\lib\\site-packages (from trio~=0.17->selenium) (3.4)\n",
      "Collecting outcome\n",
      "  Downloading outcome-1.3.0.post0-py2.py3-none-any.whl (10 kB)\n",
      "Collecting wsproto>=0.14\n",
      "  Downloading wsproto-1.2.0-py3-none-any.whl (24 kB)\n",
      "Requirement already satisfied: PySocks!=1.5.7,<2.0,>=1.5.6 in c:\\programdata\\anaconda3\\lib\\site-packages (from urllib3[socks]<3,>=1.26->selenium) (1.7.1)\n",
      "Requirement already satisfied: pycparser in c:\\programdata\\anaconda3\\lib\\site-packages (from cffi>=1.14->trio~=0.17->selenium) (2.21)\n",
      "Collecting h11<1,>=0.9.0\n",
      "  Downloading h11-0.14.0-py3-none-any.whl (58 kB)\n",
      "     ---------------------------------------- 58.3/58.3 kB ? eta 0:00:00\n",
      "Note: you may need to restart the kernel to use updated packages.\n",
      "Installing collected packages: websocket-client, sniffio, h11, exceptiongroup, attrs, wsproto, outcome, trio, trio-websocket, selenium\n",
      "  Attempting uninstall: attrs\n",
      "    Found existing installation: attrs 22.1.0\n",
      "    Uninstalling attrs-22.1.0:\n",
      "      Successfully uninstalled attrs-22.1.0\n",
      "Successfully installed attrs-24.2.0 exceptiongroup-1.2.2 h11-0.14.0 outcome-1.3.0.post0 selenium-4.25.0 sniffio-1.3.1 trio-0.26.2 trio-websocket-0.11.1 websocket-client-1.8.0 wsproto-1.2.0\n"
     ]
    }
   ],
   "source": [
    "pip install selenium\n"
   ]
  },
  {
   "cell_type": "code",
   "execution_count": 24,
   "metadata": {},
   "outputs": [],
   "source": [
    "from selenium import webdriver\n",
    "from selenium.webdriver.chrome.service import Service\n",
    "from selenium.webdriver.common.by import By\n",
    "import time\n",
    "\n",
    "# Caminho para o seu chromedriver\n",
    "driver_path = \"C:/Users/Samsung/Documents/GitHub-Datas/Web_Scraping_Danfe/chromedriver-win64/chromedriver.exe\"\n",
    "\n",
    "\n",
    "# Inicializar o serviço com o caminho do chromedriver\n",
    "service = Service(driver_path)\n",
    "\n",
    "# Iniciar o navegador usando o serviço\n",
    "driver = webdriver.Chrome(service=service)\n",
    "\n",
    "# Acessar o site\n",
    "driver.get(\"https://consultadanfe.com/?gclid=EAIaIQobChMI2Lahqfj9-gIVAkVIAB3McQr_EAAYASAAEgI8XvD_BwE#\")\n",
    "\n",
    "\n"
   ]
  },
  {
   "cell_type": "code",
   "execution_count": 25,
   "metadata": {},
   "outputs": [],
   "source": [
    "# Esperar alguns segundos para garantir que a página carregou\n",
    "time.sleep(2)\n",
    "\n",
    "# Encontrar o elemento \"Fechar\" pelo XPath e clicar nele\n",
    "fechar_botao = driver.find_element(By.XPATH, '/html/body/div[1]/div[5]/div/div/div/div/div/div/div/a[1]')\n",
    "fechar_botao.click()"
   ]
  },
  {
   "cell_type": "code",
   "execution_count": 26,
   "metadata": {},
   "outputs": [],
   "source": [
    "time.sleep(2)\n",
    "\n",
    "# Inserir a chave DANFE no campo correto pelo XPath\n",
    "chave_danfe = \"29190222899533000432550020000015311007428886\"\n",
    "campo_chave = driver.find_element(By.XPATH, '/html/body/div[1]/div[2]/div/div[1]/div/div[1]/form[1]/input')\n",
    "campo_chave.send_keys(chave_danfe)"
   ]
  },
  {
   "cell_type": "code",
   "execution_count": 12,
   "metadata": {},
   "outputs": [
    {
     "name": "stdout",
     "output_type": "stream",
     "text": [
      "Pop-up não encontrado ou não pôde ser fechado.\n"
     ]
    },
    {
     "ename": "ElementClickInterceptedException",
     "evalue": "Message: element click intercepted: Element <button class=\"g-recaptcha\" data-sitekey=\"6LdCwT8iAAAAAHyQr-PCciOhzh7GKlyXvxzDOwi0\" data-callback=\"onSubmitCH\">...</button> is not clickable at point (657, 25). Other element would receive the click: <a href=\"https://app.consultadanfe.com/\" style=\"border: 1px solid;\">...</a>\n  (Session info: chrome=129.0.6668.71)\nStacktrace:\n\tGetHandleVerifier [0x00007FF783D3B125+29573]\n\t(No symbol) [0x00007FF783CAFF50]\n\t(No symbol) [0x00007FF783B6B6EA]\n\t(No symbol) [0x00007FF783BC74EE]\n\t(No symbol) [0x00007FF783BC4F3C]\n\t(No symbol) [0x00007FF783BC2408]\n\t(No symbol) [0x00007FF783BC161A]\n\t(No symbol) [0x00007FF783BB36BE]\n\t(No symbol) [0x00007FF783BE72FA]\n\t(No symbol) [0x00007FF783BB2FF6]\n\t(No symbol) [0x00007FF783BE7510]\n\t(No symbol) [0x00007FF783C086BC]\n\t(No symbol) [0x00007FF783BE70A3]\n\t(No symbol) [0x00007FF783BB12DF]\n\t(No symbol) [0x00007FF783BB2441]\n\tGetHandleVerifier [0x00007FF78406C76D+3377613]\n\tGetHandleVerifier [0x00007FF7840B7B67+3685831]\n\tGetHandleVerifier [0x00007FF7840ACF8B+3641835]\n\tGetHandleVerifier [0x00007FF783DFB2A6+816390]\n\t(No symbol) [0x00007FF783CBB25F]\n\t(No symbol) [0x00007FF783CB7084]\n\t(No symbol) [0x00007FF783CB7220]\n\t(No symbol) [0x00007FF783CA607F]\n\tBaseThreadInitThunk [0x00007FFE56FD7374+20]\n\tRtlUserThreadStart [0x00007FFE57E7CC91+33]\n",
     "output_type": "error",
     "traceback": [
      "\u001b[1;31m---------------------------------------------------------------------------\u001b[0m",
      "\u001b[1;31mElementClickInterceptedException\u001b[0m          Traceback (most recent call last)",
      "Cell \u001b[1;32mIn[12], line 26\u001b[0m\n\u001b[0;32m     21\u001b[0m botao_buscar \u001b[38;5;241m=\u001b[39m WebDriverWait(driver, \u001b[38;5;241m10\u001b[39m)\u001b[38;5;241m.\u001b[39muntil(\n\u001b[0;32m     22\u001b[0m     EC\u001b[38;5;241m.\u001b[39melement_to_be_clickable((By\u001b[38;5;241m.\u001b[39mCSS_SELECTOR, \u001b[38;5;124m\"\u001b[39m\u001b[38;5;124m#form_one > button\u001b[39m\u001b[38;5;124m\"\u001b[39m))\n\u001b[0;32m     23\u001b[0m )\n\u001b[0;32m     25\u001b[0m \u001b[38;5;66;03m# Clicar no botão \"Buscar\"\u001b[39;00m\n\u001b[1;32m---> 26\u001b[0m \u001b[43mbotao_buscar\u001b[49m\u001b[38;5;241;43m.\u001b[39;49m\u001b[43mclick\u001b[49m\u001b[43m(\u001b[49m\u001b[43m)\u001b[49m\n",
      "File \u001b[1;32mc:\\ProgramData\\anaconda3\\lib\\site-packages\\selenium\\webdriver\\remote\\webelement.py:94\u001b[0m, in \u001b[0;36mWebElement.click\u001b[1;34m(self)\u001b[0m\n\u001b[0;32m     92\u001b[0m \u001b[38;5;28;01mdef\u001b[39;00m \u001b[38;5;21mclick\u001b[39m(\u001b[38;5;28mself\u001b[39m) \u001b[38;5;241m-\u001b[39m\u001b[38;5;241m>\u001b[39m \u001b[38;5;28;01mNone\u001b[39;00m:\n\u001b[0;32m     93\u001b[0m     \u001b[38;5;124;03m\"\"\"Clicks the element.\"\"\"\u001b[39;00m\n\u001b[1;32m---> 94\u001b[0m     \u001b[38;5;28;43mself\u001b[39;49m\u001b[38;5;241;43m.\u001b[39;49m\u001b[43m_execute\u001b[49m\u001b[43m(\u001b[49m\u001b[43mCommand\u001b[49m\u001b[38;5;241;43m.\u001b[39;49m\u001b[43mCLICK_ELEMENT\u001b[49m\u001b[43m)\u001b[49m\n",
      "File \u001b[1;32mc:\\ProgramData\\anaconda3\\lib\\site-packages\\selenium\\webdriver\\remote\\webelement.py:395\u001b[0m, in \u001b[0;36mWebElement._execute\u001b[1;34m(self, command, params)\u001b[0m\n\u001b[0;32m    393\u001b[0m     params \u001b[38;5;241m=\u001b[39m {}\n\u001b[0;32m    394\u001b[0m params[\u001b[38;5;124m\"\u001b[39m\u001b[38;5;124mid\u001b[39m\u001b[38;5;124m\"\u001b[39m] \u001b[38;5;241m=\u001b[39m \u001b[38;5;28mself\u001b[39m\u001b[38;5;241m.\u001b[39m_id\n\u001b[1;32m--> 395\u001b[0m \u001b[38;5;28;01mreturn\u001b[39;00m \u001b[38;5;28;43mself\u001b[39;49m\u001b[38;5;241;43m.\u001b[39;49m\u001b[43m_parent\u001b[49m\u001b[38;5;241;43m.\u001b[39;49m\u001b[43mexecute\u001b[49m\u001b[43m(\u001b[49m\u001b[43mcommand\u001b[49m\u001b[43m,\u001b[49m\u001b[43m \u001b[49m\u001b[43mparams\u001b[49m\u001b[43m)\u001b[49m\n",
      "File \u001b[1;32mc:\\ProgramData\\anaconda3\\lib\\site-packages\\selenium\\webdriver\\remote\\webdriver.py:354\u001b[0m, in \u001b[0;36mWebDriver.execute\u001b[1;34m(self, driver_command, params)\u001b[0m\n\u001b[0;32m    352\u001b[0m response \u001b[38;5;241m=\u001b[39m \u001b[38;5;28mself\u001b[39m\u001b[38;5;241m.\u001b[39mcommand_executor\u001b[38;5;241m.\u001b[39mexecute(driver_command, params)\n\u001b[0;32m    353\u001b[0m \u001b[38;5;28;01mif\u001b[39;00m response:\n\u001b[1;32m--> 354\u001b[0m     \u001b[38;5;28;43mself\u001b[39;49m\u001b[38;5;241;43m.\u001b[39;49m\u001b[43merror_handler\u001b[49m\u001b[38;5;241;43m.\u001b[39;49m\u001b[43mcheck_response\u001b[49m\u001b[43m(\u001b[49m\u001b[43mresponse\u001b[49m\u001b[43m)\u001b[49m\n\u001b[0;32m    355\u001b[0m     response[\u001b[38;5;124m\"\u001b[39m\u001b[38;5;124mvalue\u001b[39m\u001b[38;5;124m\"\u001b[39m] \u001b[38;5;241m=\u001b[39m \u001b[38;5;28mself\u001b[39m\u001b[38;5;241m.\u001b[39m_unwrap_value(response\u001b[38;5;241m.\u001b[39mget(\u001b[38;5;124m\"\u001b[39m\u001b[38;5;124mvalue\u001b[39m\u001b[38;5;124m\"\u001b[39m, \u001b[38;5;28;01mNone\u001b[39;00m))\n\u001b[0;32m    356\u001b[0m     \u001b[38;5;28;01mreturn\u001b[39;00m response\n",
      "File \u001b[1;32mc:\\ProgramData\\anaconda3\\lib\\site-packages\\selenium\\webdriver\\remote\\errorhandler.py:229\u001b[0m, in \u001b[0;36mErrorHandler.check_response\u001b[1;34m(self, response)\u001b[0m\n\u001b[0;32m    227\u001b[0m         alert_text \u001b[38;5;241m=\u001b[39m value[\u001b[38;5;124m\"\u001b[39m\u001b[38;5;124malert\u001b[39m\u001b[38;5;124m\"\u001b[39m]\u001b[38;5;241m.\u001b[39mget(\u001b[38;5;124m\"\u001b[39m\u001b[38;5;124mtext\u001b[39m\u001b[38;5;124m\"\u001b[39m)\n\u001b[0;32m    228\u001b[0m     \u001b[38;5;28;01mraise\u001b[39;00m exception_class(message, screen, stacktrace, alert_text)  \u001b[38;5;66;03m# type: ignore[call-arg]  # mypy is not smart enough here\u001b[39;00m\n\u001b[1;32m--> 229\u001b[0m \u001b[38;5;28;01mraise\u001b[39;00m exception_class(message, screen, stacktrace)\n",
      "\u001b[1;31mElementClickInterceptedException\u001b[0m: Message: element click intercepted: Element <button class=\"g-recaptcha\" data-sitekey=\"6LdCwT8iAAAAAHyQr-PCciOhzh7GKlyXvxzDOwi0\" data-callback=\"onSubmitCH\">...</button> is not clickable at point (657, 25). Other element would receive the click: <a href=\"https://app.consultadanfe.com/\" style=\"border: 1px solid;\">...</a>\n  (Session info: chrome=129.0.6668.71)\nStacktrace:\n\tGetHandleVerifier [0x00007FF783D3B125+29573]\n\t(No symbol) [0x00007FF783CAFF50]\n\t(No symbol) [0x00007FF783B6B6EA]\n\t(No symbol) [0x00007FF783BC74EE]\n\t(No symbol) [0x00007FF783BC4F3C]\n\t(No symbol) [0x00007FF783BC2408]\n\t(No symbol) [0x00007FF783BC161A]\n\t(No symbol) [0x00007FF783BB36BE]\n\t(No symbol) [0x00007FF783BE72FA]\n\t(No symbol) [0x00007FF783BB2FF6]\n\t(No symbol) [0x00007FF783BE7510]\n\t(No symbol) [0x00007FF783C086BC]\n\t(No symbol) [0x00007FF783BE70A3]\n\t(No symbol) [0x00007FF783BB12DF]\n\t(No symbol) [0x00007FF783BB2441]\n\tGetHandleVerifier [0x00007FF78406C76D+3377613]\n\tGetHandleVerifier [0x00007FF7840B7B67+3685831]\n\tGetHandleVerifier [0x00007FF7840ACF8B+3641835]\n\tGetHandleVerifier [0x00007FF783DFB2A6+816390]\n\t(No symbol) [0x00007FF783CBB25F]\n\t(No symbol) [0x00007FF783CB7084]\n\t(No symbol) [0x00007FF783CB7220]\n\t(No symbol) [0x00007FF783CA607F]\n\tBaseThreadInitThunk [0x00007FFE56FD7374+20]\n\tRtlUserThreadStart [0x00007FFE57E7CC91+33]\n"
     ]
    }
   ],
   "source": [
    "from selenium.webdriver.common.by import By\n",
    "from selenium.webdriver.support.ui import WebDriverWait\n",
    "from selenium.webdriver.support import expected_conditions as EC\n",
    "\n",
    "# Fechar o pop-up se ele aparecer\n",
    "try:\n",
    "    pop_up_close_button = WebDriverWait(driver, 5).until(\n",
    "        EC.element_to_be_clickable((By.XPATH, 'XPATH_DO_BOTAO_DE_FECHAR_DO_POPUP'))\n",
    "    )\n",
    "    pop_up_close_button.click()\n",
    "except Exception as e:\n",
    "    print(\"Pop-up não encontrado ou não pôde ser fechado.\")\n",
    "\n",
    "# Rolando até o botão \"Buscar\"\n",
    "botao_buscar = WebDriverWait(driver, 10).until(\n",
    "    EC.visibility_of_element_located((By.CSS_SELECTOR, \"#form_one > button\"))\n",
    ")\n",
    "driver.execute_script(\"arguments[0].scrollIntoView();\", botao_buscar)\n",
    "\n",
    "# Esperar até que o botão esteja clicável\n",
    "botao_buscar = WebDriverWait(driver, 10).until(\n",
    "    EC.element_to_be_clickable((By.CSS_SELECTOR, \"#form_one > button\"))\n",
    ")\n",
    "\n",
    "# Clicar no botão \"Buscar\"\n",
    "botao_buscar.click()\n",
    "\n",
    "# Verificar se o reCAPTCHA está presente\n",
    "try:\n",
    "    WebDriverWait(driver, 10).until(EC.visibility_of_element_located((By.CLASS_NAME, \"g-recaptcha\")))\n",
    "    print(\"reCAPTCHA encontrado, por favor, resolva e pressione Enter para continuar...\")\n",
    "    input()\n",
    "except Exception as e:\n",
    "    print(\"reCAPTCHA não encontrado, continuando...\")\n"
   ]
  },
  {
   "cell_type": "code",
   "execution_count": 27,
   "metadata": {},
   "outputs": [],
   "source": [
    "from selenium.webdriver.common.by import By\n",
    "from selenium.webdriver.support.ui import WebDriverWait\n",
    "from selenium.webdriver.support import expected_conditions as EC\n",
    "\n",
    "# Rolando até o botão \"Buscar\"\n",
    "botao_buscar = WebDriverWait(driver, 2).until(\n",
    "    EC.visibility_of_element_located((By.CSS_SELECTOR, \"#form_one > button\"))\n",
    ")\n",
    "driver.execute_script(\"arguments[0].scrollIntoView();\", botao_buscar)\n",
    "\n",
    "\n",
    "# Clicar no botão \"Buscar\" usando JavaScript\n",
    "driver.execute_script(\"arguments[0].click();\", botao_buscar)"
   ]
  },
  {
   "cell_type": "markdown",
   "metadata": {},
   "source": [
    "#### Download xml"
   ]
  },
  {
   "cell_type": "code",
   "execution_count": 28,
   "metadata": {},
   "outputs": [],
   "source": [
    "# Localizar o link pelo XPath e clicar para fazer o download\n",
    "download_link = driver.find_element(By.XPATH, '/html/body/div[1]/div[4]/div/div/div[2]/div/div[3]/p[2]/a')\n",
    "download_link.click()\n"
   ]
  },
  {
   "cell_type": "markdown",
   "metadata": {},
   "source": [
    "##### Download .pdf"
   ]
  },
  {
   "cell_type": "code",
   "execution_count": 7,
   "metadata": {},
   "outputs": [],
   "source": [
    "# Localizar o botão de download usando o XPath completo\n",
    "botao_download = driver.find_element(By.XPATH, '/html/body/div[1]/div[4]/div/div/div[2]/div/div[3]/p[1]/a')\n",
    "\n",
    "# Clicar no botão de download\n",
    "botao_download.click()"
   ]
  },
  {
   "cell_type": "code",
   "execution_count": 11,
   "metadata": {},
   "outputs": [],
   "source": [
    "# Alternar para a nova aba\n",
    "driver.switch_to.window(driver.window_handles[-1])\n"
   ]
  },
  {
   "cell_type": "code",
   "execution_count": 29,
   "metadata": {},
   "outputs": [],
   "source": [
    "driver.quit()"
   ]
  },
  {
   "cell_type": "markdown",
   "metadata": {},
   "source": [
    "#### copiar HTML"
   ]
  },
  {
   "cell_type": "code",
   "execution_count": 22,
   "metadata": {},
   "outputs": [
    {
     "name": "stdout",
     "output_type": "stream",
     "text": [
      "<html lang=\"en\"><head>\n",
      "<meta charset=\"UTF-8\">\n",
      "<title>Consulta DANFE - Gerador de DANFE ONLINE</title>\n",
      "<meta name=\"description\" content=\"Consulta de DANFE, Gerador de DANFE, Carta de Correção CC-e, DACTE, CTE, DANFE SIMPLIFICADO, GERAR e VALIDADOR Nota Fiscal Eletrônica(NF-e) Buscar XML e GERAR DANFE PDF\">\n",
      "<meta name=\"keywords\" content=\"DANFE, danfe online, consulta danfe, meu danfe, danfe pdf, gerar danfe, gerar danfe online, gerar nfe, gerar Nota Fiscal Eletrônica, gerar Nota Fiscal, gerar NF-e, gerar nfe, gerar NF-e, buscar xml, gerar xml, gerar nfe xml, gerar pdf danfe, danfe pdf, pdf danfe, gerar danfe de nfe, gerar danfe da nota, como gerar danfe, gerar danfe do xml, gerar nfe em pdf, gerar nfe pelo xml,gerar danfe pela chave de acesso, gerar danfe pela chave, chave de acesso nfe, nfe chave de acesso, nfe chave de acesso, numero da chave de acesso, gerar dacte pelo arquivo XML, danfe simplificado, gerar CC-e, vizualizar NF-e, vizualizar NFE, CC-e pela chave de acesso, validar nfe, validar NF-e, validar NF-E, imprimir nfe, imprimir nota fiscal, imprimir NF-e\">\n",
      "<link rel=\"shortcut icon\" href=\"https://consultadanfe.com/assets/img/favicon.ico\">\n",
      "<style>\n",
      "        /* Remove margens e paddings do body e html */\n",
      "        html, body {\n",
      "            height: 100%;   /* Faz com que o html e o body ocupem 100% da altura da tela */\n",
      "            margin: 0;      /* Remove as margens padrão */\n",
      "            padding: 0;     /* Remove o padding padrão */\n",
      "            overflow: hidden; /* Evita scrollbars indesejados */\n",
      "        }\n",
      "        /* Estiliza o iframe para ocupar 100% da largura e altura do elemento pai */\n",
      "        iframe {\n",
      "            width: 100%;\n",
      "            height: 100%;\n",
      "            border: none; /* Remove a borda do iframe */\n",
      "        }\n",
      "    </style>\n",
      "</head>\n",
      "<body>\n",
      "\n",
      "\n",
      "<iframe src=\"data:application/pdf;base64,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\"></iframe>\n",
      "\n",
      "\n",
      "</body></html>\n"
     ]
    }
   ],
   "source": [
    "# Supondo que você já tenha configurado o Selenium e o driver\n",
    "full_html = driver.execute_script(\"return document.documentElement.outerHTML;\")\n",
    "\n",
    "# Imprimir ou salvar o HTML completo\n",
    "print(full_html)\n",
    "\n",
    "# Se quiser salvar em um arquivo:\n",
    "with open('pagina_completa.html', 'w', encoding='utf-8') as f:\n",
    "    f.write(full_html)\n",
    "\n"
   ]
  },
  {
   "cell_type": "code",
   "execution_count": null,
   "metadata": {},
   "outputs": [],
   "source": []
  }
 ],
 "metadata": {
  "kernelspec": {
   "display_name": "base",
   "language": "python",
   "name": "python3"
  },
  "language_info": {
   "codemirror_mode": {
    "name": "ipython",
    "version": 3
   },
   "file_extension": ".py",
   "mimetype": "text/x-python",
   "name": "python",
   "nbconvert_exporter": "python",
   "pygments_lexer": "ipython3",
   "version": "3.8.16"
  }
 },
 "nbformat": 4,
 "nbformat_minor": 2
}
